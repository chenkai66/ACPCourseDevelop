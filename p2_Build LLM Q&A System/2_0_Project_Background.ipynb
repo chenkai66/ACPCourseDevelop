{
  "cells": [
    {
      "cell_type": "markdown",
      "metadata": {},
      "source": [
        "# 2.0 Project Background\n",
        "\n",
        "In this chapter, you will begin the first project of this course.\n",
        "You work for an educational content development company. With the continuous influx of new employees, frequent Q&A requests have led to significant time and resource costs.\n",
        "\n",
        "<img src=\"https://gw.alicdn.com/imgextra/i2/O1CN01TACOmD1IPpuPqCNnT_!!6000000000886-0-tps-1024-1024.jpg\" alt=\"A pile of documents\" width=\"400px\">\n",
        "\n",
        "To address this issue, the company has compiled a comprehensive document library covering company rules and regulations, writing guidelines, and daily tool usage instructions, among other resources. New employees can now independently access the materials to obtain the information they need.\n",
        "\n",
        "<img src=\"https://gw.alicdn.com/imgextra/i4/O1CN011CuUk11OEk0XDFFAZ_!!6000000001674-0-tps-1024-1024.jpg\" alt=\"A pile of documents\" width=\"400px\">\n",
        "\n",
        "However, after some time, the company noticed that the new employees' work was not in compliance with the rules and regulations, and their work frequently contained errors. Upon analysis, it was found that the information in the document library was overwhelming, making it difficult for new employees to read and fully absorb all the content.\n",
        "\n",
        "<img src=\"https://gw.alicdn.com/imgextra/i2/O1CN010a2mVD1G61Xjj7SEi_!!6000000000572-0-tps-1024-1024.jpg\" alt=\"A pile of documents\" width=\"400px\">\n",
        "\n",
        "To further solve this problem, the company developed a Q&A system. The system was configured with high-frequency questions from employees, allowing them to ask questions independently.\n",
        "\n",
        "<img src=\"https://gw.alicdn.com/imgextra/i4/O1CN01d4Cheb28hZGNpjpOZ_!!6000000007964-0-tps-1024-801.jpg\" alt=\"A pile of documents\" width=\"400px\">\n",
        "\n",
        "After running the Q&A system for a while, it was observed that the volume of employee inquiries and work errors had not significantly decreased. The company leadership realized that the current Q&A system had several limitations. Primarily, the system's mechanism was based on fixed rules and similarity matching, meaning that when employees phrased their questions  differently, the system might fail to provide the correct answer. Additionally, the workload of manually configuring Q&A pairs was very labor-intensive, resulting in a low return on investment.\n",
        "\n",
        "<img src=\"https://img.alicdn.com/imgextra/i4/O1CN01DJRqdn1XkeEAKIarZ_!!6000000002962-2-tps-1114-524.png\" alt=\"A pile of documents\" width=\"400px\">\n",
        "\n",
        "In response to this situation, the company leadership decided to assign you to take charge of the matter, hoping to resolve the issue thoroughly.\n",
        "After conducting research, you plan to use state-of-the-art large language models (LLMs) to build an intelligent Q&A application. Intelligent applications based on LLMs can understand human language well, accurately answer questions based on the knowledge base without configuring Q&A pairs, and will effectively reduce employee inquiries and improve work efficiency.\n",
        "\n",
        "<img src=\"https://gw.alicdn.com/imgextra/i1/O1CN01UZmxgz1uY2OowazMq_!!6000000006048-0-tps-1024-1024.jpg\" alt=\"A pile of documents\" width=\"400px\">\n",
        "\n",
        "Next, you will implement this goal.\n",
        "\n"
      ]
    },
    {
      "cell_type": "markdown",
      "metadata": {},
      "source": []
    }
  ],
  "metadata": {
    "kernelspec": {
      "display_name": "learnacp",
      "language": "python",
      "name": "python3"
    },
    "language_info": {
      "codemirror_mode": {
        "name": "ipython",
        "version": 3
      },
      "file_extension": ".py",
      "mimetype": "text/x-python",
      "name": "python",
      "nbconvert_exporter": "python",
      "pygments_lexer": "ipython3",
      "version": "3.9.12"
    }
  },
  "nbformat": 4,
  "nbformat_minor": 2
}
