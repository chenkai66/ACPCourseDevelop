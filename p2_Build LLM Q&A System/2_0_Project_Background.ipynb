{
  "cells": [
    {
      "cell_type": "markdown",
      "metadata": {},
      "source": [
        "# 2.0 Project Background\n",
        "\n",
        "In this chapter, you will begin the first project of this course.\n",
        "You work for an educational content development company. With the continuous influx of new employees, frequent Q&A requests have led to significant time and resource costs.\n",
        "\n",
        "<img src=\"https://gw.alicdn.com/imgextra/i2/O1CN01TACOmD1IPpuPqCNnT_!!6000000000886-0-tps-1024-1024.jpg\" alt=\"A pile of documents\" width=\"400px\">\n",
        "\n",
        "To address this issue, the company has compiled a comprehensive document library covering company rules and regulations, writing guidelines, daily tool usage instructions, and more. New employees can now independently access the materials to obtain the information they need.\n",
        "\n",
        "<img src=\"https://gw.alicdn.com/imgextra/i4/O1CN011CuUk11OEk0XDFFAZ_!!6000000001674-0-tps-1024-1024.jpg\" alt=\"A pile of documents\" width=\"400px\">\n",
        "\n",
        "After some time, the company found that the new employees' work did not comply with the rules and regulations, and their work frequently contained errors.\n",
        "Upon analysis, it turned out that the information in the document library was overwhelming, making it difficult for new employees to read and digest comprehensively.\n",
        "\n",
        "<img src=\"https://gw.alicdn.com/imgextra/i2/O1CN010a2mVD1G61Xjj7SEi_!!6000000000572-0-tps-1024-1024.jpg\" alt=\"A pile of documents\" width=\"400px\">\n",
        "\n",
        "To further solve this problem, the company developed a Q&A system. The system is configured with high-frequency questions from employees, allowing them to ask questions independently.\n",
        "\n",
        "<img src=\"https://gw.alicdn.com/imgextra/i4/O1CN01d4Cheb28hZGNpjpOZ_!!6000000007964-0-tps-1024-801.jpg\" alt=\"A pile of documents\" width=\"400px\">\n",
        "\n",
        "After the Q&A system had been running for a while, it was observed that the volume of employee inquiries and work errors had not significantly decreased.\n",
        "The company leadership realized that the current Q&A system had many limitations. Primarily, the system's mechanism was based on fixed rules and similarity judgments, meaning that when employees used different phrasing, the system might fail to answer the question.\n",
        "Additionally, the workload of manually configuring Q&A pairs was substantial, resulting in a low return on investment.\n",
        "\n",
        "<img src=\"https://gw.alicdn.com/imgextra/i2/O1CN01vGr3eE1q1Hc1niZAV_!!6000000005435-0-tps-714-469.jpg\" alt=\"A pile of documents\" width=\"400px\">\n",
        "\n",
        "In response to this situation, the company leadership decided to assign you to take charge of the matter, hoping to resolve the issue thoroughly.\n",
        "After conducting research, you plan to use state-of-the-art large language models (LLMs) to build an intelligent Q&A application. Intelligent applications based on LLMs can understand human language well, accurately answer questions based on the knowledge base without configuring Q&A pairs, and will effectively reduce employee inquiries and improve work efficiency.\n",
        "\n",
        "<img src=\"https://gw.alicdn.com/imgextra/i1/O1CN01UZmxgz1uY2OowazMq_!!6000000006048-0-tps-1024-1024.jpg\" alt=\"A pile of documents\" width=\"400px\">\n",
        "\n",
        "Next, you will implement this goal.\n",
        "\n"
      ]
    },
    {
      "cell_type": "markdown",
      "metadata": {},
      "source": []
    }
  ],
  "metadata": {
    "kernelspec": {
      "display_name": "learnacp",
      "language": "python",
      "name": "python3"
    },
    "language_info": {
      "codemirror_mode": {
        "name": "ipython",
        "version": 3
      },
      "file_extension": ".py",
      "mimetype": "text/x-python",
      "name": "python",
      "nbconvert_exporter": "python",
      "pygments_lexer": "ipython3",
      "version": "3.9.12"
    }
  },
  "nbformat": 4,
  "nbformat_minor": 2
}
